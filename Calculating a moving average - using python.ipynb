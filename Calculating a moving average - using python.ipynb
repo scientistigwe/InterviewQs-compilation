{
 "cells": [
  {
   "cell_type": "markdown",
   "id": "4efdd8ce",
   "metadata": {},
   "source": [
    "<center><b><h3>2: Calculating a moving average - using python</h3></b></center>\n",
    "\n",
    "Hi, \n",
    "You are given a list of numbers J and a single number p.  Write a function to return the minimum and maximum averages of the sequences of p numbers in the list J.\n",
    "\n",
    "\n",
    "    \n",
    "For example:\n",
    "\n",
    "\n",
    "    \n",
    "    \n",
    "# Array of numbers\n",
    "    \n",
    "\n",
    "J = [4, 4, 4, 9, 10, 11, 12]\n",
    "    \n",
    "\n",
    "# Length of sequences, p\n",
    "    \n",
    "\n",
    "p = 3\n",
    "    \n",
    "\n",
    "\n",
    "    \n",
    "Here, the sequences will be:\n",
    "\n",
    "\n",
    "    \n",
    "\n",
    "    \n",
    "(4,4,4)\n",
    "\n",
    "    \n",
    "(4,4,9)\n",
    "\n",
    "    \n",
    "(4,9,10)\n",
    "\n",
    "    \n",
    "(9,10,11)\n",
    "\n",
    "    \n",
    "(10,11,12)\n",
    "\n",
    "    \n",
    "\n",
    "    \n",
    "    \n",
    "    \n",
    "From the above we can see that the minimum average will be 4 and the maximum average will be 11, which corresponds to the first and last sequences.\n",
    "    \n",
    "Solution will be written in Python for premium users.\n",
    "\n",
    "\n",
    "You’ve accumulated 2 questions since joining our email list. Create a premium account to access detailed solutions to each problem (including this one) + our new Case studies."
   ]
  },
  {
   "cell_type": "code",
   "execution_count": 1,
   "id": "9bfe5acb",
   "metadata": {},
   "outputs": [],
   "source": [
    "def moving_average():\n",
    "    #import libraries\n",
    "    import pandas as pd\n",
    "    import numpy as np\n",
    "    \n",
    "    #input array of numbers \n",
    "    J = np.array(input(\"Enter array of numbers separated by comma: \").split(\",\"), dtype=np.int32)\n",
    "    P = int(input('Enter Length of sequences: '))\n",
    "    \n",
    "    #output moving average\n",
    "    seq = ()\n",
    "    count = 0\n",
    "    while ((len(seq) < len(J)) & (P < len(J))):\n",
    "        seq = J[:P]\n",
    "        J = J[1:]\n",
    "        print(seq)\n",
    "        count += 1\n",
    "    else:\n",
    "        print(J.astype(int))"
   ]
  },
  {
   "cell_type": "code",
   "execution_count": 2,
   "id": "65035e3a",
   "metadata": {},
   "outputs": [
    {
     "name": "stdout",
     "output_type": "stream",
     "text": [
      "Enter array of numbers separated by comma: 1,2,21,3,32,34,3,45,4,56,5,67,8,76,87,1,23,21,1\n",
      "Enter Length of sequences: 4\n",
      "[ 1  2 21  3]\n",
      "[ 2 21  3 32]\n",
      "[21  3 32 34]\n",
      "[ 3 32 34  3]\n",
      "[32 34  3 45]\n",
      "[34  3 45  4]\n",
      "[ 3 45  4 56]\n",
      "[45  4 56  5]\n",
      "[ 4 56  5 67]\n",
      "[56  5 67  8]\n",
      "[ 5 67  8 76]\n",
      "[67  8 76 87]\n",
      "[ 8 76 87  1]\n",
      "[76 87  1 23]\n",
      "[87  1 23 21]\n",
      "[ 1 23 21  1]\n"
     ]
    }
   ],
   "source": [
    "moving_average()"
   ]
  }
 ],
 "metadata": {
  "kernelspec": {
   "display_name": "Python 3",
   "language": "python",
   "name": "python3"
  },
  "language_info": {
   "codemirror_mode": {
    "name": "ipython",
    "version": 3
   },
   "file_extension": ".py",
   "mimetype": "text/x-python",
   "name": "python",
   "nbconvert_exporter": "python",
   "pygments_lexer": "ipython3",
   "version": "3.8.8"
  }
 },
 "nbformat": 4,
 "nbformat_minor": 5
}
