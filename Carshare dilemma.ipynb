{
 "cells": [
  {
   "cell_type": "markdown",
   "id": "4efdd8ce",
   "metadata": {},
   "source": [
    "<center><b><h3>3: The carshare dilemma (Statistics Probability Theory)</h3></b></center>\n",
    "\n",
    "Hi, \n",
    "\n",
    "Suppose we have selected a group of people to take a survey. 35% of the group like Uber, 20% like both Lyft and Uber, and 25% like neither Lyft nor Uber. \n",
    "\n",
    "Given this information, what percentage of the sample likes Lyft?"
   ]
  },
  {
   "cell_type": "code",
   "execution_count": 1,
   "id": "9bfe5acb",
   "metadata": {},
   "outputs": [],
   "source": [
    "def proportion_surveyed():\n",
    "    total = int(input('Enter number of people surveyed: '))\n",
    "    Uber = total * 0.35\n",
    "    Lyft_Uber = total * 0.20\n",
    "    not_Lyft_Uber = total * 0.25\n",
    "    Lyft = total - (Uber + not_Lyft_Uber)\n",
    "    print(f'{Lyft}% of the sample likes Lyft')"
   ]
  },
  {
   "cell_type": "code",
   "execution_count": 2,
   "id": "65035e3a",
   "metadata": {},
   "outputs": [
    {
     "name": "stdout",
     "output_type": "stream",
     "text": [
      "Enter number of people surveyed: 100\n",
      "40.0% of the sample likes Lyft\n"
     ]
    }
   ],
   "source": [
    "proportion_surveyed()"
   ]
  },
  {
   "cell_type": "code",
   "execution_count": null,
   "id": "2b942bec",
   "metadata": {},
   "outputs": [],
   "source": []
  }
 ],
 "metadata": {
  "kernelspec": {
   "display_name": "Python 3",
   "language": "python",
   "name": "python3"
  },
  "language_info": {
   "codemirror_mode": {
    "name": "ipython",
    "version": 3
   },
   "file_extension": ".py",
   "mimetype": "text/x-python",
   "name": "python",
   "nbconvert_exporter": "python",
   "pygments_lexer": "ipython3",
   "version": "3.8.8"
  }
 },
 "nbformat": 4,
 "nbformat_minor": 5
}
