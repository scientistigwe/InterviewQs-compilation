{
 "cells": [
  {
   "cell_type": "markdown",
   "id": "4efdd8ce",
   "metadata": {},
   "source": [
    "<center><b><h3>1: Fraudulent retail accounts</h3></b></center>\n",
    "\n",
    "Hi, \n",
    "You are given a list of numbers J and a single number p.  Write a function to return the minimum and maximum averages of the sequences of p numbers in the list J.\n",
    "\n",
    "\n",
    "    \n",
    "For example:\n",
    "\n",
    "\n",
    "    \n",
    "    \n",
    "# Array of numbers\n",
    "    \n",
    "\n",
    "J = [4, 4, 4, 9, 10, 11, 12]\n",
    "    \n",
    "\n",
    "# Length of sequences, p\n",
    "    \n",
    "\n",
    "p = 3\n",
    "    \n",
    "\n",
    "\n",
    "    \n",
    "Here, the sequences will be:\n",
    "\n",
    "\n",
    "    \n",
    "\n",
    "    \n",
    "(4,4,4)\n",
    "\n",
    "    \n",
    "(4,4,9)\n",
    "\n",
    "    \n",
    "(4,9,10)\n",
    "\n",
    "    \n",
    "(9,10,11)\n",
    "\n",
    "    \n",
    "(10,11,12)\n",
    "\n",
    "    \n",
    "\n",
    "    \n",
    "    \n",
    "    \n",
    "From the above we can see that the minimum average will be 4 and the maximum average will be 11, which corresponds to the first and last sequences.\n",
    "    \n",
    "Solution will be written in Python for premium users.\n",
    "\n",
    "\n",
    "You’ve accumulated 2 questions since joining our email list. Create a premium account to access detailed solutions to each problem (including this one) + our new Case studies."
   ]
  },
  {
   "cell_type": "code",
   "execution_count": 1,
   "id": "bcd36276",
   "metadata": {},
   "outputs": [],
   "source": [
    "#import libraries\n",
    "import pandas as pd\n",
    "import numpy as np"
   ]
  },
  {
   "cell_type": "code",
   "execution_count": 2,
   "id": "e8cc7f05",
   "metadata": {},
   "outputs": [
    {
     "name": "stdout",
     "output_type": "stream",
     "text": [
      "   store_id          date  status  revenue\n",
      "0         1  1.01.22 1000    open     12.0\n",
      "1         2  1.01.21 0930  closed      2.0\n",
      "2         3  1.01.20 2208   fraud      0.0\n",
      "3         4  1.01.19 0508  closed      0.9\n",
      "4         5  1.01.22 1200   fraud      0.5\n",
      "<class 'pandas.core.frame.DataFrame'>\n",
      "RangeIndex: 12 entries, 0 to 11\n",
      "Data columns (total 4 columns):\n",
      " #   Column    Non-Null Count  Dtype  \n",
      "---  ------    --------------  -----  \n",
      " 0   store_id  12 non-null     int64  \n",
      " 1   date      12 non-null     object \n",
      " 2   status    12 non-null     object \n",
      " 3   revenue   12 non-null     float64\n",
      "dtypes: float64(1), int64(1), object(2)\n",
      "memory usage: 512.0+ bytes\n",
      "None\n"
     ]
    }
   ],
   "source": [
    "#create dataframe with dummy values\n",
    "d = {\n",
    "   'store_id': [1,2,3,4,5,6,7,8,9,10,11,12],\n",
    "    'date': ['1.01.22 1000','1.01.21 0930', '1.01.20 2208', '1.01.19 0508', '1.01.22 1200', '1.01.18 1159', '1.01.22 1000', '1.01.21 0930', '1.01.20 2208', '1.01.19 0508', '1.01.22 1759', '1.01.18 0559'],\n",
    "    'status': ['open', 'closed', 'fraud', 'closed', 'fraud', 'fraud', 'open', 'closed', 'fraud', 'open', 'fraud', 'fraud'],\n",
    "    'revenue': [12,2,0,0.9,0.5,13,23,76,-5,0,4,13]    \n",
    "}\n",
    "\n",
    "store_account = pd.DataFrame(data=d)\n",
    "\n",
    "print(store_account.head())\n",
    "print(store_account.info())"
   ]
  },
  {
   "cell_type": "code",
   "execution_count": 3,
   "id": "9c0be68a",
   "metadata": {},
   "outputs": [
    {
     "name": "stdout",
     "output_type": "stream",
     "text": [
      "<class 'pandas.core.frame.DataFrame'>\n",
      "RangeIndex: 12 entries, 0 to 11\n",
      "Data columns (total 4 columns):\n",
      " #   Column    Non-Null Count  Dtype         \n",
      "---  ------    --------------  -----         \n",
      " 0   store_id  12 non-null     int64         \n",
      " 1   date      12 non-null     datetime64[ns]\n",
      " 2   status    12 non-null     object        \n",
      " 3   revenue   12 non-null     float64       \n",
      "dtypes: datetime64[ns](1), float64(1), int64(1), object(1)\n",
      "memory usage: 512.0+ bytes\n"
     ]
    }
   ],
   "source": [
    "#convert 'data' column to datetime dtype\n",
    "store_account['date'] = pd.to_datetime(store_account.date)\n",
    "\n",
    "store_account.info()"
   ]
  },
  {
   "cell_type": "code",
   "execution_count": 4,
   "id": "0175fefb",
   "metadata": {},
   "outputs": [],
   "source": [
    "#mask the 3 conditions (active, fraudulent & day)\n",
    "active_mask = (store_account['status']=='fraud')\n",
    "revenue_mask = (store_account['revenue'] > 0)\n",
    "time_mask = (store_account['date'].dt.hour >= 6) & (store_account['date'].dt.hour <= 18)"
   ]
  },
  {
   "cell_type": "code",
   "execution_count": 5,
   "id": "0665fc7c",
   "metadata": {},
   "outputs": [
    {
     "data": {
      "text/html": [
       "<div>\n",
       "<style scoped>\n",
       "    .dataframe tbody tr th:only-of-type {\n",
       "        vertical-align: middle;\n",
       "    }\n",
       "\n",
       "    .dataframe tbody tr th {\n",
       "        vertical-align: top;\n",
       "    }\n",
       "\n",
       "    .dataframe thead th {\n",
       "        text-align: right;\n",
       "    }\n",
       "</style>\n",
       "<table border=\"1\" class=\"dataframe\">\n",
       "  <thead>\n",
       "    <tr style=\"text-align: right;\">\n",
       "      <th></th>\n",
       "      <th>store_id</th>\n",
       "      <th>date</th>\n",
       "      <th>status</th>\n",
       "      <th>revenue</th>\n",
       "    </tr>\n",
       "  </thead>\n",
       "  <tbody>\n",
       "    <tr>\n",
       "      <th>4</th>\n",
       "      <td>5</td>\n",
       "      <td>2022-01-01 12:00:00</td>\n",
       "      <td>fraud</td>\n",
       "      <td>0.5</td>\n",
       "    </tr>\n",
       "    <tr>\n",
       "      <th>5</th>\n",
       "      <td>6</td>\n",
       "      <td>2018-01-01 11:59:00</td>\n",
       "      <td>fraud</td>\n",
       "      <td>13.0</td>\n",
       "    </tr>\n",
       "    <tr>\n",
       "      <th>10</th>\n",
       "      <td>11</td>\n",
       "      <td>2022-01-01 17:59:00</td>\n",
       "      <td>fraud</td>\n",
       "      <td>4.0</td>\n",
       "    </tr>\n",
       "  </tbody>\n",
       "</table>\n",
       "</div>"
      ],
      "text/plain": [
       "    store_id                date status  revenue\n",
       "4          5 2022-01-01 12:00:00  fraud      0.5\n",
       "5          6 2018-01-01 11:59:00  fraud     13.0\n",
       "10        11 2022-01-01 17:59:00  fraud      4.0"
      ]
     },
     "execution_count": 5,
     "metadata": {},
     "output_type": "execute_result"
    }
   ],
   "source": [
    "#apply masks to dataframe\n",
    "masked_store_account = store_account[active_mask & revenue_mask & time_mask]\n",
    "\n",
    "masked_store_account.head()"
   ]
  },
  {
   "cell_type": "code",
   "execution_count": 7,
   "id": "73b38e9f",
   "metadata": {},
   "outputs": [
    {
     "name": "stdout",
     "output_type": "stream",
     "text": [
      "25.0\n"
     ]
    }
   ],
   "source": [
    "per_active_store_fraud = (len(masked_store_account)/len(store_account) * 100)\n",
    "\n",
    "print(round(per_active_store_fraud, 2))"
   ]
  },
  {
   "cell_type": "markdown",
   "id": "614b3f3f",
   "metadata": {},
   "source": [
    "<b>Findings:</b> 25.0% of active stores were classified as fraudulent during the day time (6am to 6pm)."
   ]
  }
 ],
 "metadata": {
  "kernelspec": {
   "display_name": "Python 3",
   "language": "python",
   "name": "python3"
  },
  "language_info": {
   "codemirror_mode": {
    "name": "ipython",
    "version": 3
   },
   "file_extension": ".py",
   "mimetype": "text/x-python",
   "name": "python",
   "nbconvert_exporter": "python",
   "pygments_lexer": "ipython3",
   "version": "3.8.8"
  }
 },
 "nbformat": 4,
 "nbformat_minor": 5
}
